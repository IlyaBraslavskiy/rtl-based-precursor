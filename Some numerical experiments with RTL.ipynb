{
 "cells": [
  {
   "cell_type": "code",
   "execution_count": 1,
   "metadata": {},
   "outputs": [
    {
     "name": "stderr",
     "output_type": "stream",
     "text": [
      "/anaconda/lib/python2.7/site-packages/sklearn/cross_validation.py:41: DeprecationWarning: This module was deprecated in version 0.18 in favor of the model_selection module into which all the refactored classes and functions are moved. Also note that the interface of the new CV iterators are different from that of this module. This module will be removed in 0.20.\n",
      "  \"This module will be removed in 0.20.\", DeprecationWarning)\n"
     ]
    }
   ],
   "source": [
    "import numpy as np\n",
    "import pandas as pd\n",
    "import itertools\n",
    "import matplotlib.pyplot as plt\n",
    "%matplotlib inline\n",
    "\n",
    "from sklearn.metrics import roc_auc_score\n",
    "from sklearn.metrics import f1_score\n",
    "from sklearn.metrics import recall_score\n",
    "from sklearn.metrics import precision_score\n",
    "\n",
    "import seaborn as sns\n",
    "\n",
    "import time\n",
    "import rtl_func\n",
    "\n",
    "from sklearn.linear_model import LogisticRegression\n",
    "from sklearn.ensemble import RandomForestClassifier\n",
    "\n",
    "from xgboost import XGBClassifier\n",
    "\n",
    "import warnings\n",
    "warnings.filterwarnings('ignore')\n",
    "\n",
    "\n"
   ]
  },
  {
   "cell_type": "code",
   "execution_count": 28,
   "metadata": {
    "collapsed": true
   },
   "outputs": [],
   "source": [
    "def best_params_choice(RTL_frame, label_frame, RTL_grid=RTL_grid, labels_grid=labels_grid):\n",
    "    best_result = 0\n",
    "    best_params = []\n",
    "    for n_i,i in enumerate(label_frame.columns):\n",
    "        for n_j, j in enumerate(RTL_frame.columns):\n",
    "            if f1_score(y[i],RTL[j]) > best_result:\n",
    "                best_params = (n_i, n_j)\n",
    "                best_result = f1_score(y[i],RTL[j])\n",
    "                best_prec = precision_score(y[i],RTL[j])\n",
    "                best_rec = recall_score(y[i],RTL[j])\n",
    "                \n",
    "    print \"The best F1 score:\", best_result \n",
    "    print \"the corresponding Precision score: %f, Recall score: %f\" %(best_prec, best_rec)\n",
    "    print\n",
    "    print \"The best RTL Params:\"\n",
    "    print \"r0: %i\" %(RTL_grid[n_j][0])\n",
    "    print \"t0: %i\" %(RTL_grid[n_j][1])\n",
    "    print \n",
    "    print \"The most successful Label Params:\"\n",
    "    print \"M_c: %i\" %(labels_grid[n_i][0])\n",
    "    print \"r_c: %i\" %(labels_grid[n_i][1])\n",
    "    print \"delta_c: %i\" %(labels_grid[n_i][2])\n",
    "    print \"t_c: %i\" %(labels_grid[n_i][3])\n",
    "\n",
    "    "
   ]
  },
  {
   "cell_type": "code",
   "execution_count": 19,
   "metadata": {
    "collapsed": true
   },
   "outputs": [],
   "source": [
    "data = pd.read_csv('rtl_on_grid.csv',delimiter=\",\")\n",
    "y = pd.read_csv(\"labels.csv\")\n",
    "y.drop([\"class\",\"diff_in_days_before_first_eqarthquake\"],axis = 1, inplace = True)"
   ]
  },
  {
   "cell_type": "code",
   "execution_count": 20,
   "metadata": {
    "collapsed": true
   },
   "outputs": [],
   "source": [
    "r0 = [10,25,50]\n",
    "t0 = [30,90,180,365,730]\n",
    "RTL_grid = rtl_func.make_grid((r0,t0))\n",
    "RTL_names = []\n",
    "for params in RTL_grid:\n",
    "    r_name = \"r_where:_r0=\" + str(params[0]) + \"_t0=\" + str(params[1])\n",
    "    t_name = \"t_where:_r0=\" + str(params[0]) + \"_t0=\" + str(params[1])\n",
    "    l_name = \"l_where:_r0=\" + str(params[0]) + \"_t0=\" + str(params[1])\n",
    "    RTL_names.append((r_name,t_name,l_name))\n",
    "    \n"
   ]
  },
  {
   "cell_type": "code",
   "execution_count": 21,
   "metadata": {
    "collapsed": true
   },
   "outputs": [],
   "source": [
    "RTL_ind = []\n",
    "for x,param in enumerate(RTL_names):\n",
    "    data[\"RTL\"+str(x)] = data[param[0]].values * data[param[1]].values * data[param[2]].values\n",
    "    #data[\"RTL\"+str(x)] = data[\"RTL\"+str(x)].values - pd.rolling_mean(data[\"RTL\"+str(x)].values, 5)\n",
    "    RTL_ind.append((\"RTL\"+str(x)))\n",
    "RTL = rtl_func.make_anomaly_on_q_level(data[RTL_ind].copy(), y, 0.95, 0.05)"
   ]
  },
  {
   "cell_type": "markdown",
   "metadata": {},
   "source": [
    "Find best RTL score and write corresponding params"
   ]
  },
  {
   "cell_type": "code",
   "execution_count": 29,
   "metadata": {},
   "outputs": [
    {
     "name": "stdout",
     "output_type": "stream",
     "text": [
      "The best F1 score: 0.574647530068\n",
      "the corresponding Precision score: 0.786313, Recall score: 0.452768\n",
      "\n",
      "The best RTL Params:\n",
      "r0: 50\n",
      "t0: 730\n",
      "\n",
      "The most successful Label Params:\n",
      "M_c: 6\n",
      "r_c: 200\n",
      "delta_c: 90\n",
      "t_c: 365\n"
     ]
    }
   ],
   "source": [
    "best_params_choice(RTL, y)"
   ]
  },
  {
   "cell_type": "markdown",
   "metadata": {},
   "source": [
    "Create two additional features using \"OR\" law and \"Major choice\" law"
   ]
  },
  {
   "cell_type": "code",
   "execution_count": 31,
   "metadata": {
    "collapsed": true
   },
   "outputs": [],
   "source": [
    "RTL[\"major_RTL\"] = RTL.sum(axis=1) \n",
    "RTL[\"major_RTL\"] = (RTL[\"major_RTL\"].astype(float) / 15).astype(int)\n",
    "RTL[\"or_RTL\"] = RTL.sum(axis=1) \n",
    "RTL[\"or_RTL\"] = (RTL[\"or_RTL\"].astype(float) > 0).astype(int)"
   ]
  },
  {
   "cell_type": "markdown",
   "metadata": {},
   "source": [
    "Print Scores for \"major_RTL\" and \"or_RTL\""
   ]
  },
  {
   "cell_type": "code",
   "execution_count": 35,
   "metadata": {},
   "outputs": [
    {
     "name": "stdout",
     "output_type": "stream",
     "text": [
      "The best F1 score: 0.575098591549\n",
      "the corresponding Precision score: 0.889013, Recall score: 0.425022\n",
      "\n",
      "The best RTL Params:\n",
      "r0: 10\n",
      "t0: 30\n",
      "\n",
      "The most successful Label Params:\n",
      "M_c: 6\n",
      "r_c: 200\n",
      "delta_c: 90\n",
      "t_c: 365\n",
      "\n",
      "The best F1 score: 0.548810334358\n",
      "the corresponding Precision score: 0.613133, Recall score: 0.496702\n",
      "\n",
      "The best RTL Params:\n",
      "r0: 10\n",
      "t0: 30\n",
      "\n",
      "The most successful Label Params:\n",
      "M_c: 6\n",
      "r_c: 200\n",
      "delta_c: 90\n",
      "t_c: 365\n"
     ]
    }
   ],
   "source": [
    "best_params_choice(pd.DataFrame(RTL[\"major_RTL\"]), y)\n",
    "print\n",
    "best_params_choice(pd.DataFrame(RTL[\"or_RTL\"]), y)"
   ]
  }
 ],
 "metadata": {
  "kernelspec": {
   "display_name": "Python 2",
   "language": "python",
   "name": "python2"
  },
  "language_info": {
   "codemirror_mode": {
    "name": "ipython",
    "version": 2
   },
   "file_extension": ".py",
   "mimetype": "text/x-python",
   "name": "python",
   "nbconvert_exporter": "python",
   "pygments_lexer": "ipython2",
   "version": "2.7.13"
  }
 },
 "nbformat": 4,
 "nbformat_minor": 2
}
