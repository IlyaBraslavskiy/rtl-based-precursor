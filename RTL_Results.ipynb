{
 "cells": [
  {
   "cell_type": "code",
   "execution_count": 1,
   "metadata": {
    "collapsed": true
   },
   "outputs": [],
   "source": [
    "from rtl_func import *\n",
    "import numpy as np\n",
    "import pandas as pd \n",
    "\n",
    "from sklearn.metrics import roc_auc_score\n",
    "from sklearn.metrics import f1_score\n",
    "from sklearn.metrics import recall_score\n",
    "from sklearn.metrics import precision_score\n",
    "from sklearn.metrics import roc_curve\n",
    "from sklearn.ensemble import GradientBoostingClassifier\n",
    "from sklearn.model_selection import train_test_split, GridSearchCV, RandomizedSearchCV, KFold\n",
    "\n",
    "import seaborn as sns\n",
    "\n",
    "import time\n",
    "\n",
    "from sklearn.linear_model import LogisticRegression\n",
    "from sklearn.linear_model import RidgeClassifier, LinearRegression\n",
    "from sklearn.ensemble import RandomForestClassifier\n",
    "from sklearn.neighbors import KNeighborsClassifier\n",
    "from sklearn.feature_selection import RFE\n",
    "\n",
    "import warnings\n",
    "warnings.filterwarnings('ignore')\n"
   ]
  },
  {
   "cell_type": "code",
   "execution_count": 2,
   "metadata": {
    "collapsed": true
   },
   "outputs": [],
   "source": [
    "data = pd.read_csv('test_features.csv',delimiter=\",\")\n",
    "y = pd.read_csv(\"labels.csv\")\n",
    "data.drop([\"lat\",\"l_r\",\"long\",\"class\",\"diff_in_days_before_first_eqarthquake\"],axis = 1, inplace = True)"
   ]
  },
  {
   "cell_type": "markdown",
   "metadata": {},
   "source": [
    "make list RTL_names with names of grid parameters"
   ]
  },
  {
   "cell_type": "code",
   "execution_count": 3,
   "metadata": {
    "collapsed": true
   },
   "outputs": [],
   "source": [
    "r0 = [10,25,50,100]\n",
    "t0 = [30,90,180,365]\n",
    "grid_params = make_grid((r0,t0))\n",
    "RTL_names = []\n",
    "\n",
    "for params in grid_params:\n",
    "    r_name = \"r_where:_r0=\" + str(params[0]) + \"_t0=\" + str(params[1])\n",
    "    t_name = \"t_where:_r0=\" + str(params[0]) + \"_t0=\" + str(params[1])\n",
    "    l_name = \"l_where:_r0=\" + str(params[0]) + \"_t0=\" + str(params[1])\n",
    "    RTL_names.append((r_name,t_name,l_name))"
   ]
  },
  {
   "cell_type": "markdown",
   "metadata": {},
   "source": [
    "compute the values of RTL's\n",
    "RTL_ind - list with names of RTL's"
   ]
  },
  {
   "cell_type": "code",
   "execution_count": 4,
   "metadata": {
    "collapsed": true
   },
   "outputs": [],
   "source": [
    "RTL_ind = []\n",
    "\n",
    "for x,param in enumerate(RTL_names):\n",
    "    data[\"RTL\"+str(x)] = data[param[0]].values * data[param[1]].values * data[param[2]].values\n",
    "    #data[\"RTL\"+str(x)] = data[\"RTL\"+str(x)].values - pd.rolling_mean(data[\"RTL\"+str(x)].values, 5)\n",
    "    RTL_ind.append((\"RTL\"+str(x)))"
   ]
  },
  {
   "cell_type": "markdown",
   "metadata": {},
   "source": [
    "transform RTL statistics to {0,1}-features using 5% quantiles "
   ]
  },
  {
   "cell_type": "code",
   "execution_count": 16,
   "metadata": {
    "collapsed": true
   },
   "outputs": [],
   "source": [
    "RTL = make_anomaly_on_q_level(data[RTL_ind].copy(), y, 0.9, 0.00)"
   ]
  },
  {
   "cell_type": "code",
   "execution_count": 6,
   "metadata": {
    "collapsed": true
   },
   "outputs": [],
   "source": [
    "best_y = y[\"index_where:_m_c=5.0_r_c=50.0_delta_c=10.0_t_c180.0\"]"
   ]
  },
  {
   "cell_type": "markdown",
   "metadata": {},
   "source": [
    "make grid for labels "
   ]
  },
  {
   "cell_type": "code",
   "execution_count": 7,
   "metadata": {
    "collapsed": true
   },
   "outputs": [],
   "source": [
    "m_c = [5.,6.]\n",
    "r_c = [50.,100.,200.]\n",
    "delta_c = [10.,30.,90.]\n",
    "t_c = [180.,365.]\n",
    "\n",
    "labels_grid = make_grid((m_c,r_c,delta_c,t_c))"
   ]
  },
  {
   "cell_type": "markdown",
   "metadata": {},
   "source": [
    "find the best values for label and RTL"
   ]
  },
  {
   "cell_type": "code",
   "execution_count": 8,
   "metadata": {
    "collapsed": true
   },
   "outputs": [],
   "source": [
    "best_result = 0 \n",
    "\n",
    "for i in y.columns:\n",
    "    for j in RTL.columns:\n",
    "        if roc_auc_score(y[i],RTL[j]) > best_result:\n",
    "            best_params = (i, j) \n",
    "            best_result = f1_score(y[i],RTL[j])\n",
    "        \n"
   ]
  },
  {
   "cell_type": "code",
   "execution_count": 9,
   "metadata": {},
   "outputs": [
    {
     "name": "stdout",
     "output_type": "stream",
     "text": [
      "index_where:_m_c=5.0_r_c=50.0_delta_c=10.0_t_c180.0 [   5.  100.   10.  180.]\n",
      "0.636825768668\n",
      "0.689384525651 0.591713464803\n"
     ]
    }
   ],
   "source": [
    "print best_params[0], labels_grid[6]\n",
    "\n",
    "y = y[best_params[0]]\n",
    "y_pred = RTL[best_params[1]]\n",
    "    \n",
    "print f1_score(y, y_pred)\n",
    "print precision_score(y, y_pred), recall_score(y, y_pred) "
   ]
  },
  {
   "cell_type": "markdown",
   "metadata": {},
   "source": [
    "Now train models using all RTL's and the best label grid"
   ]
  },
  {
   "cell_type": "code",
   "execution_count": 12,
   "metadata": {
    "collapsed": true
   },
   "outputs": [],
   "source": [
    "models = []\n",
    "\n",
    "logres_parameters = [{\"penalty\":[\"l2\"],\n",
    "                      \"C\":[1]}]\n",
    "models.append([\"LogRegression\", LogisticRegression(), logres_parameters])\n",
    "\n",
    "GB_parameters =[{\"max_depth\":[5],\n",
    "                  \"n_estimators\":[100]}]\n",
    "\n",
    "models.append([\"GBClassifier\", GradientBoostingClassifier(), GB_parameters])\n",
    "\n",
    "rf_parameters = [{\"n_estimators\": [10,100]}]\n",
    "models.append([\"RandomForest\",\n",
    "                    RandomForestClassifier(),\n",
    "                    rf_parameters])"
   ]
  },
  {
   "cell_type": "code",
   "execution_count": 17,
   "metadata": {},
   "outputs": [
    {
     "name": "stdout",
     "output_type": "stream",
     "text": [
      "('LogRegression', 0.63712284450718482, {'penalty': 'l2', 'C': 1})\n",
      "('GBClassifier', 0.66819158279805457, {'n_estimators': 100, 'max_depth': 5})\n",
      "('RandomForest', 0.66791207092191651, {'n_estimators': 100})\n"
     ]
    }
   ],
   "source": [
    "best_scores = []\n",
    "best_params = []\n",
    "\n",
    "for name, model, parameters in models:\n",
    "    for params in parameters:\n",
    "        estimator = model\n",
    "        cv = KFold(n_splits=4, shuffle=True, random_state=13)\n",
    "        clf = GridSearchCV(estimator, param_grid=params,scoring = 'f1', n_jobs=6, cv=cv)\n",
    "        clf.fit(RTL, best_y)\n",
    "        best_scores.append(clf.best_score_)\n",
    "        best_params.append(clf.best_params_)\n",
    "        \n",
    "        print(name, clf.best_score_, clf.best_params_)"
   ]
  },
  {
   "cell_type": "code",
   "execution_count": 9,
   "metadata": {},
   "outputs": [
    {
     "name": "stdout",
     "output_type": "stream",
     "text": [
      "('GBClassifier', 0.65573670534552242, {'n_estimators': 100, 'max_depth': 5})\n",
      "('RandomForest', 0.65684801160735296, {'n_estimators': 10})\n"
     ]
    }
   ],
   "source": [
    "best_scores = []\n",
    "best_params = []\n",
    "\n",
    "for name, model, parameters in models:\n",
    "    for params in parameters:\n",
    "        estimator = model\n",
    "        cv = KFold(n_splits=4, shuffle=True, random_state=13)\n",
    "        clf = GridSearchCV(estimator, param_grid=params,scoring = 'f1', n_jobs=6, cv=cv)\n",
    "        clf.fit(RTL, best_y)\n",
    "        best_scores.append(clf.best_score_)\n",
    "        best_params.append(clf.best_params_)\n",
    "        \n",
    "        print(name, clf.best_score_, clf.best_params_)"
   ]
  },
  {
   "cell_type": "code",
   "execution_count": 10,
   "metadata": {},
   "outputs": [
    {
     "name": "stdout",
     "output_type": "stream",
     "text": [
      "('GBClassifier', 0.72520882974290057, {'n_estimators': 100, 'max_depth': 5})\n",
      "('RandomForest', 0.82368754566453284, {'n_estimators': 100})\n"
     ]
    }
   ],
   "source": [
    "best_scores = []\n",
    "best_params = []\n",
    "\n",
    "for name, model, parameters in models:\n",
    "    for params in parameters:\n",
    "        estimator = model\n",
    "        cv = KFold(n_splits=4, shuffle=True, random_state=13)\n",
    "        clf = GridSearchCV(estimator, param_grid=params,scoring = 'f1', n_jobs=6, cv=cv)\n",
    "        clf.fit(data[RTL_ind], best_y)\n",
    "        best_scores.append(clf.best_score_)\n",
    "        best_params.append(clf.best_params_)\n",
    "        \n",
    "        print(name, clf.best_score_, clf.best_params_)"
   ]
  },
  {
   "cell_type": "code",
   "execution_count": null,
   "metadata": {
    "collapsed": true
   },
   "outputs": [],
   "source": [
    "rf = RandomForestClassifier(n_estimators = 10)\n",
    "rf.fit(RTL,best_y)"
   ]
  }
 ],
 "metadata": {
  "kernelspec": {
   "display_name": "Python 2",
   "language": "python",
   "name": "python2"
  },
  "language_info": {
   "codemirror_mode": {
    "name": "ipython",
    "version": 2
   },
   "file_extension": ".py",
   "mimetype": "text/x-python",
   "name": "python",
   "nbconvert_exporter": "python",
   "pygments_lexer": "ipython2",
   "version": "2.7.14"
  }
 },
 "nbformat": 4,
 "nbformat_minor": 2
}
